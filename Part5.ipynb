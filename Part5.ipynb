{
 "cells": [
  {
   "cell_type": "code",
   "execution_count": 1,
   "metadata": {},
   "outputs": [],
   "source": [
    "import pandas as pd\n",
    "import requests\n",
    "import gmaps\n",
    "import json\n",
    "from config import gkey\n"
   ]
  },
  {
   "cell_type": "code",
   "execution_count": 5,
   "metadata": {},
   "outputs": [],
   "source": [
    "#read stored dataset and select a typical year \n",
    "df1 = pd.read_csv('data/cleaned_data_schoolattendancerate.csv')\n",
    "\n",
    "df2 = df1.loc[df1['Attendance Year']==2019]"
   ]
  },
  {
   "cell_type": "code",
   "execution_count": 8,
   "metadata": {},
   "outputs": [
    {
     "data": {
      "application/vnd.jupyter.widget-view+json": {
       "model_id": "b57fb003965845e58b6c79fda11dfaa8",
       "version_major": 2,
       "version_minor": 0
      },
      "text/plain": [
       "Figure(layout=FigureLayout(height='1000px', width='100%'))"
      ]
     },
     "metadata": {},
     "output_type": "display_data"
    }
   ],
   "source": [
    "#apply gmaps API to show heatmap\n",
    "gmaps.configure(api_key=gkey)\n",
    "\n",
    "location = df2[['Latitude','Longitude']]\n",
    "\n",
    "df3 = df2['Attendance Rate']\n",
    "\n",
    "df4 = pd.qcut(df3,10,labels = False)\n",
    "\n",
    "df4\n",
    "\n",
    "weights = df4\n",
    "\n",
    "figure_layout = {'width':'100%','height':'1000px'}\n",
    "\n",
    "fig = gmaps.figure(layout=figure_layout,center=(-20,145),zoom_level=6)\n",
    "\n",
    "heat_layer = gmaps.heatmap_layer(location,weights = weights,dissipating=False,max_intensity=10,point_radius=0.1)\n",
    "fig.add_layer(heat_layer)\n",
    "\n",
    "fig"
   ]
  },
  {
   "cell_type": "code",
   "execution_count": null,
   "metadata": {},
   "outputs": [],
   "source": []
  }
 ],
 "metadata": {
  "kernelspec": {
   "display_name": "PythonData",
   "language": "python",
   "name": "pythondata"
  },
  "language_info": {
   "codemirror_mode": {
    "name": "ipython",
    "version": 3
   },
   "file_extension": ".py",
   "mimetype": "text/x-python",
   "name": "python",
   "nbconvert_exporter": "python",
   "pygments_lexer": "ipython3",
   "version": "3.6.10"
  }
 },
 "nbformat": 4,
 "nbformat_minor": 4
}
