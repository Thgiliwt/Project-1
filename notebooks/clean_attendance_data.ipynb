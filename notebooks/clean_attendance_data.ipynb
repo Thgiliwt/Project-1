{
 "cells": [
  {
   "source": [
    "# CleanStudentAttendance \n",
    "This notebook reads in the student attendance and school directory files and\n",
    "* reformats the attendance rate to a float \n",
    "* creates a merged data frame with columns from the school directory added to the attendance rate \n",
    "* outputs the cleanded dataframe as a csv file in the ```data/cleaned_data_schoolattendancerate.csv``` directory "
   ],
   "cell_type": "markdown",
   "metadata": {}
  },
  {
   "cell_type": "code",
   "execution_count": 7,
   "metadata": {},
   "outputs": [],
   "source": [
    "import pandas as pd\n",
    "\n",
    "data1 = '../data/QLD-2015-19-student-attendance-rate-by-school.csv'\n",
    "data2 = '../data/QLD-School-Directory.csv'\n",
    "student_attendance_df = pd.read_csv(data1)\n",
    "school_directory_df = pd.read_csv(data2)"
   ]
  },
  {
   "source": [
    "Have a look at the contents of the two data sets\n",
    "* Student Attendance  "
   ],
   "cell_type": "markdown",
   "metadata": {}
  },
  {
   "cell_type": "code",
   "execution_count": 8,
   "metadata": {
    "scrolled": false
   },
   "outputs": [
    {
     "output_type": "execute_result",
     "data": {
      "text/plain": [
       "     School Code                 School  Attendance Year   School Type  \\\n",
       "0            591  Abercorn State School             2015  State School   \n",
       "1            591  Abercorn State School             2016  State School   \n",
       "2            591  Abercorn State School             2017  State School   \n",
       "3            591  Abercorn State School             2018  State School   \n",
       "4            591  Abercorn State School             2019  State School   \n",
       "...          ...                    ...              ...           ...   \n",
       "6127         275  Zillmere State School             2015  State School   \n",
       "6128         275  Zillmere State School             2016  State School   \n",
       "6129         275  Zillmere State School             2017  State School   \n",
       "6130         275  Zillmere State School             2018  State School   \n",
       "6131         275  Zillmere State School             2019  State School   \n",
       "\n",
       "     School Category            Remoteness Area              Region  \\\n",
       "0            Primary   Outer Regional Australia  Central Queensland   \n",
       "1            Primary   Outer Regional Australia  Central Queensland   \n",
       "2            Primary   Outer Regional Australia  Central Queensland   \n",
       "3            Primary   Outer Regional Australia  Central Queensland   \n",
       "4            Primary   Outer Regional Australia  Central Queensland   \n",
       "...              ...                        ...                 ...   \n",
       "6127         Primary  Major Cities of Australia        Metropolitan   \n",
       "6128         Primary  Major Cities of Australia        Metropolitan   \n",
       "6129         Primary  Major Cities of Australia        Metropolitan   \n",
       "6130         Primary  Major Cities of Australia        Metropolitan   \n",
       "6131         Primary  Major Cities of Australia        Metropolitan   \n",
       "\n",
       "     Local Government Area State Electorate  FTE Days Attended  \\\n",
       "0        North Burnett (R)          Callide             1987.5   \n",
       "1        North Burnett (R)          Callide             1632.5   \n",
       "2        North Burnett (R)          Callide             1405.0   \n",
       "3        North Burnett (R)          Callide             1640.0   \n",
       "4        North Burnett (R)          Callide             1657.5   \n",
       "...                    ...              ...                ...   \n",
       "6127          Brisbane (C)           Aspley            11786.0   \n",
       "6128          Brisbane (C)           Aspley            12816.5   \n",
       "6129          Brisbane (C)           Aspley            11195.0   \n",
       "6130          Brisbane (C)           Aspley            12004.0   \n",
       "6131          Brisbane (C)           Aspley            10843.5   \n",
       "\n",
       "      Possible Attendance Days Attendance Rate  \n",
       "0                       2103.0          94.50%  \n",
       "1                       1705.0          95.70%  \n",
       "2                       1440.0          97.60%  \n",
       "3                       1700.0          96.50%  \n",
       "4                       1728.0          95.90%  \n",
       "...                        ...             ...  \n",
       "6127                   12919.0          91.20%  \n",
       "6128                   13956.0          91.80%  \n",
       "6129                   12314.0          90.90%  \n",
       "6130                   13503.0          88.90%  \n",
       "6131                   12567.0          86.30%  \n",
       "\n",
       "[6132 rows x 12 columns]"
      ],
      "text/html": "<div>\n<style scoped>\n    .dataframe tbody tr th:only-of-type {\n        vertical-align: middle;\n    }\n\n    .dataframe tbody tr th {\n        vertical-align: top;\n    }\n\n    .dataframe thead th {\n        text-align: right;\n    }\n</style>\n<table border=\"1\" class=\"dataframe\">\n  <thead>\n    <tr style=\"text-align: right;\">\n      <th></th>\n      <th>School Code</th>\n      <th>School</th>\n      <th>Attendance Year</th>\n      <th>School Type</th>\n      <th>School Category</th>\n      <th>Remoteness Area</th>\n      <th>Region</th>\n      <th>Local Government Area</th>\n      <th>State Electorate</th>\n      <th>FTE Days Attended</th>\n      <th>Possible Attendance Days</th>\n      <th>Attendance Rate</th>\n    </tr>\n  </thead>\n  <tbody>\n    <tr>\n      <th>0</th>\n      <td>591</td>\n      <td>Abercorn State School</td>\n      <td>2015</td>\n      <td>State School</td>\n      <td>Primary</td>\n      <td>Outer Regional Australia</td>\n      <td>Central Queensland</td>\n      <td>North Burnett (R)</td>\n      <td>Callide</td>\n      <td>1987.5</td>\n      <td>2103.0</td>\n      <td>94.50%</td>\n    </tr>\n    <tr>\n      <th>1</th>\n      <td>591</td>\n      <td>Abercorn State School</td>\n      <td>2016</td>\n      <td>State School</td>\n      <td>Primary</td>\n      <td>Outer Regional Australia</td>\n      <td>Central Queensland</td>\n      <td>North Burnett (R)</td>\n      <td>Callide</td>\n      <td>1632.5</td>\n      <td>1705.0</td>\n      <td>95.70%</td>\n    </tr>\n    <tr>\n      <th>2</th>\n      <td>591</td>\n      <td>Abercorn State School</td>\n      <td>2017</td>\n      <td>State School</td>\n      <td>Primary</td>\n      <td>Outer Regional Australia</td>\n      <td>Central Queensland</td>\n      <td>North Burnett (R)</td>\n      <td>Callide</td>\n      <td>1405.0</td>\n      <td>1440.0</td>\n      <td>97.60%</td>\n    </tr>\n    <tr>\n      <th>3</th>\n      <td>591</td>\n      <td>Abercorn State School</td>\n      <td>2018</td>\n      <td>State School</td>\n      <td>Primary</td>\n      <td>Outer Regional Australia</td>\n      <td>Central Queensland</td>\n      <td>North Burnett (R)</td>\n      <td>Callide</td>\n      <td>1640.0</td>\n      <td>1700.0</td>\n      <td>96.50%</td>\n    </tr>\n    <tr>\n      <th>4</th>\n      <td>591</td>\n      <td>Abercorn State School</td>\n      <td>2019</td>\n      <td>State School</td>\n      <td>Primary</td>\n      <td>Outer Regional Australia</td>\n      <td>Central Queensland</td>\n      <td>North Burnett (R)</td>\n      <td>Callide</td>\n      <td>1657.5</td>\n      <td>1728.0</td>\n      <td>95.90%</td>\n    </tr>\n    <tr>\n      <th>...</th>\n      <td>...</td>\n      <td>...</td>\n      <td>...</td>\n      <td>...</td>\n      <td>...</td>\n      <td>...</td>\n      <td>...</td>\n      <td>...</td>\n      <td>...</td>\n      <td>...</td>\n      <td>...</td>\n      <td>...</td>\n    </tr>\n    <tr>\n      <th>6127</th>\n      <td>275</td>\n      <td>Zillmere State School</td>\n      <td>2015</td>\n      <td>State School</td>\n      <td>Primary</td>\n      <td>Major Cities of Australia</td>\n      <td>Metropolitan</td>\n      <td>Brisbane (C)</td>\n      <td>Aspley</td>\n      <td>11786.0</td>\n      <td>12919.0</td>\n      <td>91.20%</td>\n    </tr>\n    <tr>\n      <th>6128</th>\n      <td>275</td>\n      <td>Zillmere State School</td>\n      <td>2016</td>\n      <td>State School</td>\n      <td>Primary</td>\n      <td>Major Cities of Australia</td>\n      <td>Metropolitan</td>\n      <td>Brisbane (C)</td>\n      <td>Aspley</td>\n      <td>12816.5</td>\n      <td>13956.0</td>\n      <td>91.80%</td>\n    </tr>\n    <tr>\n      <th>6129</th>\n      <td>275</td>\n      <td>Zillmere State School</td>\n      <td>2017</td>\n      <td>State School</td>\n      <td>Primary</td>\n      <td>Major Cities of Australia</td>\n      <td>Metropolitan</td>\n      <td>Brisbane (C)</td>\n      <td>Aspley</td>\n      <td>11195.0</td>\n      <td>12314.0</td>\n      <td>90.90%</td>\n    </tr>\n    <tr>\n      <th>6130</th>\n      <td>275</td>\n      <td>Zillmere State School</td>\n      <td>2018</td>\n      <td>State School</td>\n      <td>Primary</td>\n      <td>Major Cities of Australia</td>\n      <td>Metropolitan</td>\n      <td>Brisbane (C)</td>\n      <td>Aspley</td>\n      <td>12004.0</td>\n      <td>13503.0</td>\n      <td>88.90%</td>\n    </tr>\n    <tr>\n      <th>6131</th>\n      <td>275</td>\n      <td>Zillmere State School</td>\n      <td>2019</td>\n      <td>State School</td>\n      <td>Primary</td>\n      <td>Major Cities of Australia</td>\n      <td>Metropolitan</td>\n      <td>Brisbane (C)</td>\n      <td>Aspley</td>\n      <td>10843.5</td>\n      <td>12567.0</td>\n      <td>86.30%</td>\n    </tr>\n  </tbody>\n</table>\n<p>6132 rows × 12 columns</p>\n</div>"
     },
     "metadata": {},
     "execution_count": 8
    }
   ],
   "source": [
    "student_attendance_df"
   ]
  },
  {
   "cell_type": "code",
   "execution_count": 9,
   "metadata": {},
   "outputs": [],
   "source": [
    "# reformat the Attendance Rate to a float for later analysis\n",
    "student_attendance_df['Attendance Rate'].convert_dtypes(convert_string=True)\n",
    "rate = []\n",
    "for ia in range(len(student_attendance_df)):\n",
    "    result = student_attendance_df['Attendance Rate'][ia]\n",
    "    newresult = float(result.replace('%',''))\n",
    "    rate.append(newresult)\n",
    "student_attendance_df['Attendance Rate'] = rate"
   ]
  },
  {
   "source": [
    "* School Directory "
   ],
   "cell_type": "markdown",
   "metadata": {}
  },
  {
   "cell_type": "code",
   "execution_count": 10,
   "metadata": {},
   "outputs": [
    {
     "output_type": "execute_result",
     "data": {
      "text/plain": [
       "     Centre Code                                        Centre Name  \\\n",
       "0           5817                     A B Paterson College (Arundel)   \n",
       "1            591                              Abercorn State School   \n",
       "2           1275                            Abergowrie State School   \n",
       "3           5588  Aboriginal & Islander Independent Community Sc...   \n",
       "4             25                          Acacia Ridge State School   \n",
       "...          ...                                                ...   \n",
       "1769        2367    Youth and Community Learning Centre (Toowoomba)   \n",
       "1770        1954                              Yugumbir State School   \n",
       "1771         372                                Yuleba State School   \n",
       "1772        1002                            Yungaburra State School   \n",
       "1773         275                              Zillmere State School   \n",
       "\n",
       "           Centre Type Centre Status  Host Centre Code  Host Centre Name  \\\n",
       "0     Non-State School          Open               NaN               NaN   \n",
       "1         State School          Open               NaN               NaN   \n",
       "2         State School          Open               NaN               NaN   \n",
       "3     Non-State School          Open               NaN               NaN   \n",
       "4         State School          Open               NaN               NaN   \n",
       "...                ...           ...               ...               ...   \n",
       "1769  Non-State School          Open               NaN               NaN   \n",
       "1770      State School          Open               NaN               NaN   \n",
       "1771      State School          Open               NaN               NaN   \n",
       "1772      State School          Open               NaN               NaN   \n",
       "1773      State School          Open               NaN               NaN   \n",
       "\n",
       "     Official Low Year Level Official High Year Level Officer In Charge Title  \\\n",
       "0                  Prep Year                  Year 12               Principal   \n",
       "1                  Prep Year                   Year 6               Principal   \n",
       "2                  Prep Year                   Year 6               Principal   \n",
       "3                  Prep Year                  Year 12               Principal   \n",
       "4            Early Childhood                   Year 6               Principal   \n",
       "...                      ...                      ...                     ...   \n",
       "1769                  Year 8                  Year 12               Principal   \n",
       "1770               Prep Year                   Year 6               Principal   \n",
       "1771         Early Childhood                   Year 6               Principal   \n",
       "1772               Prep Year                   Year 6               Principal   \n",
       "1773               Prep Year                   Year 6               Principal   \n",
       "\n",
       "      School Band  ... Statistical Area Level2 Code  \\\n",
       "0             NaN  ...                    309031235   \n",
       "1             5.0  ...                    319021508   \n",
       "2             5.0  ...                    318011465   \n",
       "3             NaN  ...                    303051076   \n",
       "4             8.0  ...                    303051076   \n",
       "...           ...  ...                          ...   \n",
       "1769          NaN  ...                    317011454   \n",
       "1770         11.0  ...                    311031319   \n",
       "1771          5.0  ...                    307011177   \n",
       "1772          7.0  ...                    306051169   \n",
       "1773          6.0  ...                    302041046   \n",
       "\n",
       "                Remoteness Area Enrolment Effective Date All Student Count  \\\n",
       "0     Major Cities of Australia                      NaN               NaN   \n",
       "1      Outer Regional Australia                2019 July              18.0   \n",
       "2              Remote Australia                2019 July               4.0   \n",
       "3     Major Cities of Australia                      NaN               NaN   \n",
       "4     Major Cities of Australia                2019 July             379.0   \n",
       "...                         ...                      ...               ...   \n",
       "1769   Inner Regional Australia                      NaN               NaN   \n",
       "1770  Major Cities of Australia                2019 July            1089.0   \n",
       "1771           Remote Australia                2019 July              15.0   \n",
       "1772   Outer Regional Australia                2019 July             205.0   \n",
       "1773  Major Cities of Australia                2019 July             130.0   \n",
       "\n",
       "     Campus All Student Count           ABN     Sector Non-State Sector  \\\n",
       "0                         NaN           NaN  Non-State      Independent   \n",
       "1                         NaN  2.210125e+10      State              NaN   \n",
       "2                         NaN  8.724407e+10      State              NaN   \n",
       "3                         NaN           NaN  Non-State      Independent   \n",
       "4                         NaN  9.928509e+10      State              NaN   \n",
       "...                       ...           ...        ...              ...   \n",
       "1769                      NaN           NaN  Non-State         Catholic   \n",
       "1770                      NaN  6.145468e+10      State              NaN   \n",
       "1771                      NaN  9.632736e+10      State              NaN   \n",
       "1772                      NaN  3.915362e+10      State              NaN   \n",
       "1773                      NaN  3.745681e+10      State              NaN   \n",
       "\n",
       "       Longitude   Latitude  \n",
       "0     153.360364 -27.927672  \n",
       "1     151.127031 -25.135955  \n",
       "2     145.883510 -18.474697  \n",
       "3     153.025757 -27.581562  \n",
       "4     153.016074 -27.579554  \n",
       "...          ...        ...  \n",
       "1769  151.955281 -27.533144  \n",
       "1770  153.049445 -27.675902  \n",
       "1771  149.381988 -26.614533  \n",
       "1772  145.585798 -17.272953  \n",
       "1773  153.037355 -27.364673  \n",
       "\n",
       "[1774 rows x 38 columns]"
      ],
      "text/html": "<div>\n<style scoped>\n    .dataframe tbody tr th:only-of-type {\n        vertical-align: middle;\n    }\n\n    .dataframe tbody tr th {\n        vertical-align: top;\n    }\n\n    .dataframe thead th {\n        text-align: right;\n    }\n</style>\n<table border=\"1\" class=\"dataframe\">\n  <thead>\n    <tr style=\"text-align: right;\">\n      <th></th>\n      <th>Centre Code</th>\n      <th>Centre Name</th>\n      <th>Centre Type</th>\n      <th>Centre Status</th>\n      <th>Host Centre Code</th>\n      <th>Host Centre Name</th>\n      <th>Official Low Year Level</th>\n      <th>Official High Year Level</th>\n      <th>Officer In Charge Title</th>\n      <th>School Band</th>\n      <th>...</th>\n      <th>Statistical Area Level2 Code</th>\n      <th>Remoteness Area</th>\n      <th>Enrolment Effective Date</th>\n      <th>All Student Count</th>\n      <th>Campus All Student Count</th>\n      <th>ABN</th>\n      <th>Sector</th>\n      <th>Non-State Sector</th>\n      <th>Longitude</th>\n      <th>Latitude</th>\n    </tr>\n  </thead>\n  <tbody>\n    <tr>\n      <th>0</th>\n      <td>5817</td>\n      <td>A B Paterson College (Arundel)</td>\n      <td>Non-State School</td>\n      <td>Open</td>\n      <td>NaN</td>\n      <td>NaN</td>\n      <td>Prep Year</td>\n      <td>Year 12</td>\n      <td>Principal</td>\n      <td>NaN</td>\n      <td>...</td>\n      <td>309031235</td>\n      <td>Major Cities of Australia</td>\n      <td>NaN</td>\n      <td>NaN</td>\n      <td>NaN</td>\n      <td>NaN</td>\n      <td>Non-State</td>\n      <td>Independent</td>\n      <td>153.360364</td>\n      <td>-27.927672</td>\n    </tr>\n    <tr>\n      <th>1</th>\n      <td>591</td>\n      <td>Abercorn State School</td>\n      <td>State School</td>\n      <td>Open</td>\n      <td>NaN</td>\n      <td>NaN</td>\n      <td>Prep Year</td>\n      <td>Year 6</td>\n      <td>Principal</td>\n      <td>5.0</td>\n      <td>...</td>\n      <td>319021508</td>\n      <td>Outer Regional Australia</td>\n      <td>2019 July</td>\n      <td>18.0</td>\n      <td>NaN</td>\n      <td>2.210125e+10</td>\n      <td>State</td>\n      <td>NaN</td>\n      <td>151.127031</td>\n      <td>-25.135955</td>\n    </tr>\n    <tr>\n      <th>2</th>\n      <td>1275</td>\n      <td>Abergowrie State School</td>\n      <td>State School</td>\n      <td>Open</td>\n      <td>NaN</td>\n      <td>NaN</td>\n      <td>Prep Year</td>\n      <td>Year 6</td>\n      <td>Principal</td>\n      <td>5.0</td>\n      <td>...</td>\n      <td>318011465</td>\n      <td>Remote Australia</td>\n      <td>2019 July</td>\n      <td>4.0</td>\n      <td>NaN</td>\n      <td>8.724407e+10</td>\n      <td>State</td>\n      <td>NaN</td>\n      <td>145.883510</td>\n      <td>-18.474697</td>\n    </tr>\n    <tr>\n      <th>3</th>\n      <td>5588</td>\n      <td>Aboriginal &amp; Islander Independent Community Sc...</td>\n      <td>Non-State School</td>\n      <td>Open</td>\n      <td>NaN</td>\n      <td>NaN</td>\n      <td>Prep Year</td>\n      <td>Year 12</td>\n      <td>Principal</td>\n      <td>NaN</td>\n      <td>...</td>\n      <td>303051076</td>\n      <td>Major Cities of Australia</td>\n      <td>NaN</td>\n      <td>NaN</td>\n      <td>NaN</td>\n      <td>NaN</td>\n      <td>Non-State</td>\n      <td>Independent</td>\n      <td>153.025757</td>\n      <td>-27.581562</td>\n    </tr>\n    <tr>\n      <th>4</th>\n      <td>25</td>\n      <td>Acacia Ridge State School</td>\n      <td>State School</td>\n      <td>Open</td>\n      <td>NaN</td>\n      <td>NaN</td>\n      <td>Early Childhood</td>\n      <td>Year 6</td>\n      <td>Principal</td>\n      <td>8.0</td>\n      <td>...</td>\n      <td>303051076</td>\n      <td>Major Cities of Australia</td>\n      <td>2019 July</td>\n      <td>379.0</td>\n      <td>NaN</td>\n      <td>9.928509e+10</td>\n      <td>State</td>\n      <td>NaN</td>\n      <td>153.016074</td>\n      <td>-27.579554</td>\n    </tr>\n    <tr>\n      <th>...</th>\n      <td>...</td>\n      <td>...</td>\n      <td>...</td>\n      <td>...</td>\n      <td>...</td>\n      <td>...</td>\n      <td>...</td>\n      <td>...</td>\n      <td>...</td>\n      <td>...</td>\n      <td>...</td>\n      <td>...</td>\n      <td>...</td>\n      <td>...</td>\n      <td>...</td>\n      <td>...</td>\n      <td>...</td>\n      <td>...</td>\n      <td>...</td>\n      <td>...</td>\n      <td>...</td>\n    </tr>\n    <tr>\n      <th>1769</th>\n      <td>2367</td>\n      <td>Youth and Community Learning Centre (Toowoomba)</td>\n      <td>Non-State School</td>\n      <td>Open</td>\n      <td>NaN</td>\n      <td>NaN</td>\n      <td>Year 8</td>\n      <td>Year 12</td>\n      <td>Principal</td>\n      <td>NaN</td>\n      <td>...</td>\n      <td>317011454</td>\n      <td>Inner Regional Australia</td>\n      <td>NaN</td>\n      <td>NaN</td>\n      <td>NaN</td>\n      <td>NaN</td>\n      <td>Non-State</td>\n      <td>Catholic</td>\n      <td>151.955281</td>\n      <td>-27.533144</td>\n    </tr>\n    <tr>\n      <th>1770</th>\n      <td>1954</td>\n      <td>Yugumbir State School</td>\n      <td>State School</td>\n      <td>Open</td>\n      <td>NaN</td>\n      <td>NaN</td>\n      <td>Prep Year</td>\n      <td>Year 6</td>\n      <td>Principal</td>\n      <td>11.0</td>\n      <td>...</td>\n      <td>311031319</td>\n      <td>Major Cities of Australia</td>\n      <td>2019 July</td>\n      <td>1089.0</td>\n      <td>NaN</td>\n      <td>6.145468e+10</td>\n      <td>State</td>\n      <td>NaN</td>\n      <td>153.049445</td>\n      <td>-27.675902</td>\n    </tr>\n    <tr>\n      <th>1771</th>\n      <td>372</td>\n      <td>Yuleba State School</td>\n      <td>State School</td>\n      <td>Open</td>\n      <td>NaN</td>\n      <td>NaN</td>\n      <td>Early Childhood</td>\n      <td>Year 6</td>\n      <td>Principal</td>\n      <td>5.0</td>\n      <td>...</td>\n      <td>307011177</td>\n      <td>Remote Australia</td>\n      <td>2019 July</td>\n      <td>15.0</td>\n      <td>NaN</td>\n      <td>9.632736e+10</td>\n      <td>State</td>\n      <td>NaN</td>\n      <td>149.381988</td>\n      <td>-26.614533</td>\n    </tr>\n    <tr>\n      <th>1772</th>\n      <td>1002</td>\n      <td>Yungaburra State School</td>\n      <td>State School</td>\n      <td>Open</td>\n      <td>NaN</td>\n      <td>NaN</td>\n      <td>Prep Year</td>\n      <td>Year 6</td>\n      <td>Principal</td>\n      <td>7.0</td>\n      <td>...</td>\n      <td>306051169</td>\n      <td>Outer Regional Australia</td>\n      <td>2019 July</td>\n      <td>205.0</td>\n      <td>NaN</td>\n      <td>3.915362e+10</td>\n      <td>State</td>\n      <td>NaN</td>\n      <td>145.585798</td>\n      <td>-17.272953</td>\n    </tr>\n    <tr>\n      <th>1773</th>\n      <td>275</td>\n      <td>Zillmere State School</td>\n      <td>State School</td>\n      <td>Open</td>\n      <td>NaN</td>\n      <td>NaN</td>\n      <td>Prep Year</td>\n      <td>Year 6</td>\n      <td>Principal</td>\n      <td>6.0</td>\n      <td>...</td>\n      <td>302041046</td>\n      <td>Major Cities of Australia</td>\n      <td>2019 July</td>\n      <td>130.0</td>\n      <td>NaN</td>\n      <td>3.745681e+10</td>\n      <td>State</td>\n      <td>NaN</td>\n      <td>153.037355</td>\n      <td>-27.364673</td>\n    </tr>\n  </tbody>\n</table>\n<p>1774 rows × 38 columns</p>\n</div>"
     },
     "metadata": {},
     "execution_count": 10
    }
   ],
   "source": [
    "school_directory_df"
   ]
  },
  {
   "cell_type": "code",
   "execution_count": 11,
   "metadata": {
    "scrolled": true
   },
   "outputs": [],
   "source": [
    "# Make a sub-set of the school directory with only the columns that we want to have in the merged data set \n",
    "sd_temp_df = school_directory_df.loc[:,['Centre Code', \n",
    "       'Official Low Year Level',\n",
    "       'Official High Year Level',\n",
    "       'Actual Address Line 3', 'Actual Address Post Code',\n",
    "       'All Student Count',\n",
    "       'Longitude', 'Latitude']].dropna()\n",
    "\n",
    "sd_temp_df = sd_temp_df.rename(columns = {'Centre Code':'School Code','Actual Address Line 3':'Suburb','Actual Address Post Code':'Post Code'})"
   ]
  },
  {
   "cell_type": "code",
   "execution_count": 12,
   "metadata": {},
   "outputs": [
    {
     "output_type": "execute_result",
     "data": {
      "text/plain": [
       "1030    1\n",
       "541     1\n",
       "807     1\n",
       "2062    1\n",
       "2165    1\n",
       "       ..\n",
       "145     1\n",
       "1037    1\n",
       "451     1\n",
       "468     1\n",
       "7121    1\n",
       "Name: School Code, Length: 1237, dtype: int64"
      ]
     },
     "metadata": {},
     "execution_count": 12
    }
   ],
   "source": [
    "#check that the School Code is unique \n",
    "sd_temp_df['School Code'].value_counts()"
   ]
  },
  {
   "cell_type": "code",
   "execution_count": 14,
   "metadata": {
    "scrolled": true
   },
   "outputs": [],
   "source": [
    "#now merge the school directory with the student attendance and write it out \n",
    "student_attendance_merged_df = student_attendance_df.merge(sd_temp_df,on = 'School Code',how='inner')\n",
    "student_attendance_merged_df.to_csv('../data/cleaned_data_schoolattendancerate.csv',index=False,header=True)"
   ]
  },
  {
   "cell_type": "code",
   "execution_count": 58,
   "metadata": {},
   "outputs": [],
   "source": []
  }
 ],
 "metadata": {
  "kernelspec": {
   "name": "python3",
   "display_name": "Python 3.8.5 64-bit ('PythonData': conda)"
  },
  "language_info": {
   "codemirror_mode": {
    "name": "ipython",
    "version": 3
   },
   "file_extension": ".py",
   "mimetype": "text/x-python",
   "name": "python",
   "nbconvert_exporter": "python",
   "pygments_lexer": "ipython3",
   "version": "3.8.5"
  },
  "interpreter": {
   "hash": "9bffe33b5fd20bd79db2aeb53e20f32ff9281612073e95f8cc7d91022c1172a1"
  }
 },
 "nbformat": 4,
 "nbformat_minor": 4
}