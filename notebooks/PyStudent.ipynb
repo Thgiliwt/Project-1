{
 "metadata": {
  "language_info": {
   "codemirror_mode": {
    "name": "ipython",
    "version": 3
   },
   "file_extension": ".py",
   "mimetype": "text/x-python",
   "name": "python",
   "nbconvert_exporter": "python",
   "pygments_lexer": "ipython3",
   "version": "3.8.5"
  },
  "orig_nbformat": 4,
  "kernelspec": {
   "name": "python3",
   "display_name": "Python 3.8.5 64-bit ('PythonData': conda)"
  },
  "interpreter": {
   "hash": "9bffe33b5fd20bd79db2aeb53e20f32ff9281612073e95f8cc7d91022c1172a1"
  }
 },
 "nbformat": 4,
 "nbformat_minor": 2,
 "cells": [
  {
   "cell_type": "code",
   "execution_count": 9,
   "metadata": {},
   "outputs": [],
   "source": [
    "import matplotlib.pyplot as plt\n",
    "import pandas as pd\n",
    "import numpy as np\n",
    "import requests\n",
    "import json\n",
    "import time\n",
    "from scipy.stats import linregress\n",
    "import math\n",
    "from datetime import datetime"
   ]
  },
  {
   "cell_type": "code",
   "execution_count": 10,
   "metadata": {},
   "outputs": [
    {
     "output_type": "stream",
     "name": "stdout",
     "text": [
      "<class 'pandas.core.frame.DataFrame'>\nRangeIndex: 6132 entries, 0 to 6131\nData columns (total 12 columns):\n #   Column                    Non-Null Count  Dtype  \n---  ------                    --------------  -----  \n 0   School Code               6132 non-null   object \n 1   School                    6132 non-null   object \n 2   Attendance Year           6132 non-null   int64  \n 3   School Type               6132 non-null   object \n 4   School Category           6132 non-null   object \n 5   Remoteness Area           6132 non-null   object \n 6   Region                    6132 non-null   object \n 7   Local Government Area     6132 non-null   object \n 8   State Electorate          6132 non-null   object \n 9   FTE Days Attended         6132 non-null   float64\n 10  Possible Attendance Days  6132 non-null   float64\n 11  Attendance Rate           6132 non-null   object \ndtypes: float64(2), int64(1), object(9)\nmemory usage: 575.0+ KB\n"
     ]
    }
   ],
   "source": [
    "# open the attendance rate data and write it into a DataFrame \n",
    "attendance_file_name = \"..\\data\\QLD-2015-19-student-attendance-rate-by-school.csv\"\n",
    "attendance_df = pd.read_csv(attendance_file_name)\n",
    "attendance_df.info()"
   ]
  },
  {
   "cell_type": "code",
   "execution_count": 13,
   "metadata": {},
   "outputs": [
    {
     "output_type": "stream",
     "name": "stdout",
     "text": [
      "<class 'pandas.core.frame.DataFrame'>\nRangeIndex: 1774 entries, 0 to 1773\nData columns (total 38 columns):\n #   Column                                   Non-Null Count  Dtype  \n---  ------                                   --------------  -----  \n 0   Centre Code                              1774 non-null   object \n 1   Centre Name                              1774 non-null   object \n 2   Centre Type                              1774 non-null   object \n 3   Centre Status                            1774 non-null   object \n 4   Host Centre Code                         0 non-null      float64\n 5   Host Centre Name                         0 non-null      float64\n 6   Official Low Year Level                  1774 non-null   object \n 7   Official High Year Level                 1774 non-null   object \n 8   Officer In Charge Title                  1774 non-null   object \n 9   School Band                              1248 non-null   float64\n 10  Show Holiday Date                        1248 non-null   object \n 11  Internet Site                            1771 non-null   object \n 12  Phone Number                             1773 non-null   object \n 13  Restrict Contact Outside Teaching Hours  1419 non-null   object \n 14  Fax Number                               1513 non-null   object \n 15  Actual Address Line 1                    17 non-null     object \n 16  Actual Address Line 2                    1774 non-null   object \n 17  Actual Address Line 3                    1774 non-null   object \n 18  Actual Address Post Code                 1774 non-null   int64  \n 19  Postal Address Line 1                    1774 non-null   object \n 20  Postal Address Line 2                    1772 non-null   object \n 21  Postal Address Line 3                    70 non-null     object \n 22  Postal Address Post Code                 1774 non-null   int64  \n 23  Education Geographic Region              1774 non-null   object \n 24  Federal Electorate                       1774 non-null   object \n 25  State Electorate                         1774 non-null   object \n 26  Local Government Area                    1774 non-null   object \n 27  Statistical Area Level2                  1774 non-null   object \n 28  Statistical Area Level2 Code             1774 non-null   int64  \n 29  Remoteness Area                          1774 non-null   object \n 30  Enrolment Effective Date                 1237 non-null   object \n 31  All Student Count                        1237 non-null   float64\n 32  Campus All Student Count                 0 non-null      float64\n 33  ABN                                      1249 non-null   float64\n 34  Sector                                   1774 non-null   object \n 35  Non-State Sector                         521 non-null    object \n 36  Longitude                                1774 non-null   float64\n 37  Latitude                                 1774 non-null   float64\ndtypes: float64(8), int64(3), object(27)\nmemory usage: 526.8+ KB\n"
     ]
    }
   ],
   "source": [
    "school_directory_file_name = '..\\data\\QLD-School-Directory.csv'\n",
    "raw_school_df = pd.read_csv(school_directory_file_name)\n",
    "raw_school_df.info()"
   ]
  },
  {
   "cell_type": "code",
   "execution_count": null,
   "metadata": {},
   "outputs": [],
   "source": []
  }
 ]
}